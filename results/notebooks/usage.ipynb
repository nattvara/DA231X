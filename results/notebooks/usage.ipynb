{
 "cells": [
  {
   "cell_type": "markdown",
   "source": [
    "# Usage notebook\n",
    "\n",
    "This notebook will analyse the general usage of the assistant in the participating courses"
   ],
   "metadata": {
    "collapsed": false
   },
   "id": "47354f54ba1ab92c"
  },
  {
   "cell_type": "code",
   "outputs": [
    {
     "name": "stdout",
     "output_type": "stream",
     "text": [
      "hello\n"
     ]
    }
   ],
   "source": [
    "print(\"hello\")"
   ],
   "metadata": {
    "collapsed": false,
    "ExecuteTime": {
     "end_time": "2024-05-23T13:47:46.288758Z",
     "start_time": "2024-05-23T13:47:46.282250Z"
    }
   },
   "id": "a44c2288f44b536c",
   "execution_count": 1
  }
 ],
 "metadata": {
  "kernelspec": {
   "display_name": "Python 3",
   "language": "python",
   "name": "python3"
  },
  "language_info": {
   "codemirror_mode": {
    "name": "ipython",
    "version": 2
   },
   "file_extension": ".py",
   "mimetype": "text/x-python",
   "name": "python",
   "nbconvert_exporter": "python",
   "pygments_lexer": "ipython2",
   "version": "2.7.6"
  }
 },
 "nbformat": 4,
 "nbformat_minor": 5
}
